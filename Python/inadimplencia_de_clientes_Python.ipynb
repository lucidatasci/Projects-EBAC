{
 "cells": [
  {
   "cell_type": "markdown",
   "id": "0b558946",
   "metadata": {
    "papermill": {
     "duration": 0.012644,
     "end_time": "2023-10-05T00:02:43.401380",
     "exception": false,
     "start_time": "2023-10-05T00:02:43.388736",
     "status": "completed"
    },
    "tags": []
   },
   "source": [
    "# # Análise da influência de fatores sociais e econômicos na inadimplência de clientes bancários"
   ]
  },
  {
   "cell_type": "markdown",
   "id": "6e63377b",
   "metadata": {
    "papermill": {
     "duration": 0.013698,
     "end_time": "2023-10-05T00:02:43.426981",
     "exception": false,
     "start_time": "2023-10-05T00:02:43.413283",
     "status": "completed"
    },
    "tags": []
   },
   "source": [
    "O objetivo deste estudo é entender os fatores mais prováveis que causam um cliente a ser inadimplente em relação a uma dívida bancária. Esses fatores incluem salário, escolaridade e movimentação financeira. Para isso utilizaremos uma base de dados que contém informações sobre clientes de uma instituição financeira, tais como idade, sexo, escolaridade, salário anual, movimentação financeira, e status como adimplente ou inadimplente. "
   ]
  },
  {
   "cell_type": "markdown",
   "id": "8b07f936",
   "metadata": {
    "papermill": {
     "duration": 0.011039,
     "end_time": "2023-10-05T00:02:43.449515",
     "exception": false,
     "start_time": "2023-10-05T00:02:43.438476",
     "status": "completed"
    },
    "tags": []
   },
   "source": [
    "Utilizamos a biblioteca Pandas para manipulação de tabelas; Seaborn e Matplotlib para a visualização dos dados:"
   ]
  },
  {
   "cell_type": "code",
   "execution_count": 1,
   "id": "ad7734da",
   "metadata": {
    "execution": {
     "iopub.execute_input": "2023-10-05T00:02:43.474307Z",
     "iopub.status.busy": "2023-10-05T00:02:43.473404Z",
     "iopub.status.idle": "2023-10-05T00:02:44.904465Z",
     "shell.execute_reply": "2023-10-05T00:02:44.903326Z"
    },
    "papermill": {
     "duration": 1.446152,
     "end_time": "2023-10-05T00:02:44.907039",
     "exception": false,
     "start_time": "2023-10-05T00:02:43.460887",
     "status": "completed"
    },
    "tags": []
   },
   "outputs": [
    {
     "name": "stderr",
     "output_type": "stream",
     "text": [
      "/opt/conda/lib/python3.10/site-packages/scipy/__init__.py:146: UserWarning: A NumPy version >=1.16.5 and <1.23.0 is required for this version of SciPy (detected version 1.23.5\n",
      "  warnings.warn(f\"A NumPy version >={np_minversion} and <{np_maxversion}\"\n"
     ]
    }
   ],
   "source": [
    "import pandas as pd\n",
    "import seaborn as sns\n",
    "import matplotlib.pyplot as plt"
   ]
  },
  {
   "cell_type": "markdown",
   "id": "30afd7e3",
   "metadata": {
    "papermill": {
     "duration": 0.011281,
     "end_time": "2023-10-05T00:02:44.930177",
     "exception": false,
     "start_time": "2023-10-05T00:02:44.918896",
     "status": "completed"
    },
    "tags": []
   },
   "source": [
    "Iniciamos carregando o arquivo .csv em um DataFrame:"
   ]
  },
  {
   "cell_type": "code",
   "execution_count": 2,
   "id": "4f162a9f",
   "metadata": {
    "execution": {
     "iopub.execute_input": "2023-10-05T00:02:44.955955Z",
     "iopub.status.busy": "2023-10-05T00:02:44.954825Z",
     "iopub.status.idle": "2023-10-05T00:02:45.197348Z",
     "shell.execute_reply": "2023-10-05T00:02:45.196593Z"
    },
    "papermill": {
     "duration": 0.257667,
     "end_time": "2023-10-05T00:02:45.199559",
     "exception": false,
     "start_time": "2023-10-05T00:02:44.941892",
     "status": "completed"
    },
    "tags": []
   },
   "outputs": [],
   "source": [
    "df = pd.read_csv('https://raw.githubusercontent.com/andre-marcos-perez/ebac-course-utils/develop/dataset/credito.csv', na_values='na')"
   ]
  },
  {
   "cell_type": "markdown",
   "id": "632ceac3",
   "metadata": {
    "papermill": {
     "duration": 0.01123,
     "end_time": "2023-10-05T00:02:45.222502",
     "exception": false,
     "start_time": "2023-10-05T00:02:45.211272",
     "status": "completed"
    },
    "tags": []
   },
   "source": [
    "# Visão Geral dos Dados"
   ]
  },
  {
   "cell_type": "markdown",
   "id": "c6048911",
   "metadata": {
    "papermill": {
     "duration": 0.011787,
     "end_time": "2023-10-05T00:02:45.245835",
     "exception": false,
     "start_time": "2023-10-05T00:02:45.234048",
     "status": "completed"
    },
    "tags": []
   },
   "source": [
    "Vamos exibir as primeiras linhas do DataFrame para uma análise visual do formato desses dados:"
   ]
  },
  {
   "cell_type": "code",
   "execution_count": 3,
   "id": "5d72c90c",
   "metadata": {
    "execution": {
     "iopub.execute_input": "2023-10-05T00:02:45.270823Z",
     "iopub.status.busy": "2023-10-05T00:02:45.270164Z",
     "iopub.status.idle": "2023-10-05T00:02:45.294669Z",
     "shell.execute_reply": "2023-10-05T00:02:45.293573Z"
    },
    "papermill": {
     "duration": 0.039515,
     "end_time": "2023-10-05T00:02:45.296859",
     "exception": false,
     "start_time": "2023-10-05T00:02:45.257344",
     "status": "completed"
    },
    "tags": []
   },
   "outputs": [
    {
     "data": {
      "text/html": [
       "<div>\n",
       "<style scoped>\n",
       "    .dataframe tbody tr th:only-of-type {\n",
       "        vertical-align: middle;\n",
       "    }\n",
       "\n",
       "    .dataframe tbody tr th {\n",
       "        vertical-align: top;\n",
       "    }\n",
       "\n",
       "    .dataframe thead th {\n",
       "        text-align: right;\n",
       "    }\n",
       "</style>\n",
       "<table border=\"1\" class=\"dataframe\">\n",
       "  <thead>\n",
       "    <tr style=\"text-align: right;\">\n",
       "      <th></th>\n",
       "      <th>id</th>\n",
       "      <th>default</th>\n",
       "      <th>idade</th>\n",
       "      <th>sexo</th>\n",
       "      <th>dependentes</th>\n",
       "      <th>escolaridade</th>\n",
       "      <th>estado_civil</th>\n",
       "      <th>salario_anual</th>\n",
       "      <th>tipo_cartao</th>\n",
       "      <th>meses_de_relacionamento</th>\n",
       "      <th>qtd_produtos</th>\n",
       "      <th>iteracoes_12m</th>\n",
       "      <th>meses_inativo_12m</th>\n",
       "      <th>limite_credito</th>\n",
       "      <th>valor_transacoes_12m</th>\n",
       "      <th>qtd_transacoes_12m</th>\n",
       "    </tr>\n",
       "  </thead>\n",
       "  <tbody>\n",
       "    <tr>\n",
       "      <th>0</th>\n",
       "      <td>768805383</td>\n",
       "      <td>0</td>\n",
       "      <td>45</td>\n",
       "      <td>M</td>\n",
       "      <td>3</td>\n",
       "      <td>ensino medio</td>\n",
       "      <td>casado</td>\n",
       "      <td>$60K - $80K</td>\n",
       "      <td>blue</td>\n",
       "      <td>39</td>\n",
       "      <td>5</td>\n",
       "      <td>3</td>\n",
       "      <td>1</td>\n",
       "      <td>12.691,51</td>\n",
       "      <td>1.144,90</td>\n",
       "      <td>42</td>\n",
       "    </tr>\n",
       "    <tr>\n",
       "      <th>1</th>\n",
       "      <td>818770008</td>\n",
       "      <td>0</td>\n",
       "      <td>49</td>\n",
       "      <td>F</td>\n",
       "      <td>5</td>\n",
       "      <td>mestrado</td>\n",
       "      <td>solteiro</td>\n",
       "      <td>menos que $40K</td>\n",
       "      <td>blue</td>\n",
       "      <td>44</td>\n",
       "      <td>6</td>\n",
       "      <td>2</td>\n",
       "      <td>1</td>\n",
       "      <td>8.256,96</td>\n",
       "      <td>1.291,45</td>\n",
       "      <td>33</td>\n",
       "    </tr>\n",
       "    <tr>\n",
       "      <th>2</th>\n",
       "      <td>713982108</td>\n",
       "      <td>0</td>\n",
       "      <td>51</td>\n",
       "      <td>M</td>\n",
       "      <td>3</td>\n",
       "      <td>mestrado</td>\n",
       "      <td>casado</td>\n",
       "      <td>$80K - $120K</td>\n",
       "      <td>blue</td>\n",
       "      <td>36</td>\n",
       "      <td>4</td>\n",
       "      <td>0</td>\n",
       "      <td>1</td>\n",
       "      <td>3.418,56</td>\n",
       "      <td>1.887,72</td>\n",
       "      <td>20</td>\n",
       "    </tr>\n",
       "    <tr>\n",
       "      <th>3</th>\n",
       "      <td>769911858</td>\n",
       "      <td>0</td>\n",
       "      <td>40</td>\n",
       "      <td>F</td>\n",
       "      <td>4</td>\n",
       "      <td>ensino medio</td>\n",
       "      <td>NaN</td>\n",
       "      <td>menos que $40K</td>\n",
       "      <td>blue</td>\n",
       "      <td>34</td>\n",
       "      <td>3</td>\n",
       "      <td>1</td>\n",
       "      <td>4</td>\n",
       "      <td>3.313,03</td>\n",
       "      <td>1.171,56</td>\n",
       "      <td>20</td>\n",
       "    </tr>\n",
       "    <tr>\n",
       "      <th>4</th>\n",
       "      <td>709106358</td>\n",
       "      <td>0</td>\n",
       "      <td>40</td>\n",
       "      <td>M</td>\n",
       "      <td>3</td>\n",
       "      <td>sem educacao formal</td>\n",
       "      <td>casado</td>\n",
       "      <td>$60K - $80K</td>\n",
       "      <td>blue</td>\n",
       "      <td>21</td>\n",
       "      <td>5</td>\n",
       "      <td>0</td>\n",
       "      <td>1</td>\n",
       "      <td>4.716,22</td>\n",
       "      <td>816,08</td>\n",
       "      <td>28</td>\n",
       "    </tr>\n",
       "  </tbody>\n",
       "</table>\n",
       "</div>"
      ],
      "text/plain": [
       "          id  default  idade sexo  dependentes         escolaridade  \\\n",
       "0  768805383        0     45    M            3         ensino medio   \n",
       "1  818770008        0     49    F            5             mestrado   \n",
       "2  713982108        0     51    M            3             mestrado   \n",
       "3  769911858        0     40    F            4         ensino medio   \n",
       "4  709106358        0     40    M            3  sem educacao formal   \n",
       "\n",
       "  estado_civil   salario_anual tipo_cartao  meses_de_relacionamento  \\\n",
       "0       casado     $60K - $80K        blue                       39   \n",
       "1     solteiro  menos que $40K        blue                       44   \n",
       "2       casado    $80K - $120K        blue                       36   \n",
       "3          NaN  menos que $40K        blue                       34   \n",
       "4       casado     $60K - $80K        blue                       21   \n",
       "\n",
       "   qtd_produtos  iteracoes_12m  meses_inativo_12m limite_credito  \\\n",
       "0             5              3                  1      12.691,51   \n",
       "1             6              2                  1       8.256,96   \n",
       "2             4              0                  1       3.418,56   \n",
       "3             3              1                  4       3.313,03   \n",
       "4             5              0                  1       4.716,22   \n",
       "\n",
       "  valor_transacoes_12m  qtd_transacoes_12m  \n",
       "0             1.144,90                  42  \n",
       "1             1.291,45                  33  \n",
       "2             1.887,72                  20  \n",
       "3             1.171,56                  20  \n",
       "4               816,08                  28  "
      ]
     },
     "execution_count": 3,
     "metadata": {},
     "output_type": "execute_result"
    }
   ],
   "source": [
    "df.head()"
   ]
  },
  {
   "cell_type": "code",
   "execution_count": 4,
   "id": "5657a827",
   "metadata": {
    "execution": {
     "iopub.execute_input": "2023-10-05T00:02:45.322943Z",
     "iopub.status.busy": "2023-10-05T00:02:45.322187Z",
     "iopub.status.idle": "2023-10-05T00:02:45.329055Z",
     "shell.execute_reply": "2023-10-05T00:02:45.328245Z"
    },
    "papermill": {
     "duration": 0.022363,
     "end_time": "2023-10-05T00:02:45.331065",
     "exception": false,
     "start_time": "2023-10-05T00:02:45.308702",
     "status": "completed"
    },
    "tags": []
   },
   "outputs": [
    {
     "data": {
      "text/plain": [
       "(10127, 16)"
      ]
     },
     "execution_count": 4,
     "metadata": {},
     "output_type": "execute_result"
    }
   ],
   "source": [
    "df.shape #Retorna uma tupla com o número total de linhas e colunas do DataFrame"
   ]
  },
  {
   "cell_type": "markdown",
   "id": "f7693611",
   "metadata": {
    "papermill": {
     "duration": 0.011724,
     "end_time": "2023-10-05T00:02:45.354932",
     "exception": false,
     "start_time": "2023-10-05T00:02:45.343208",
     "status": "completed"
    },
    "tags": []
   },
   "source": [
    "A coluna 'default' representa o status do cliente como adimplente (default=0) ou inadimplente (default=1). Em uma breve análise quantitativa, podemos calcular a porcentagem dessas duas ocorrências:"
   ]
  },
  {
   "cell_type": "code",
   "execution_count": 5,
   "id": "f09814d1",
   "metadata": {
    "execution": {
     "iopub.execute_input": "2023-10-05T00:02:45.381190Z",
     "iopub.status.busy": "2023-10-05T00:02:45.380246Z",
     "iopub.status.idle": "2023-10-05T00:02:45.392110Z",
     "shell.execute_reply": "2023-10-05T00:02:45.391325Z"
    },
    "papermill": {
     "duration": 0.026971,
     "end_time": "2023-10-05T00:02:45.393991",
     "exception": false,
     "start_time": "2023-10-05T00:02:45.367020",
     "status": "completed"
    },
    "tags": []
   },
   "outputs": [
    {
     "data": {
      "text/plain": [
       "(8500, 16)"
      ]
     },
     "execution_count": 5,
     "metadata": {},
     "output_type": "execute_result"
    }
   ],
   "source": [
    "df[df['default'] == 0].shape #Número de linhas e colunas dos clientes adimplentes."
   ]
  },
  {
   "cell_type": "code",
   "execution_count": 6,
   "id": "66691d5c",
   "metadata": {
    "execution": {
     "iopub.execute_input": "2023-10-05T00:02:45.419848Z",
     "iopub.status.busy": "2023-10-05T00:02:45.419389Z",
     "iopub.status.idle": "2023-10-05T00:02:45.427545Z",
     "shell.execute_reply": "2023-10-05T00:02:45.426536Z"
    },
    "papermill": {
     "duration": 0.023365,
     "end_time": "2023-10-05T00:02:45.429425",
     "exception": false,
     "start_time": "2023-10-05T00:02:45.406060",
     "status": "completed"
    },
    "tags": []
   },
   "outputs": [
    {
     "data": {
      "text/plain": [
       "(1627, 16)"
      ]
     },
     "execution_count": 6,
     "metadata": {},
     "output_type": "execute_result"
    }
   ],
   "source": [
    "df[df['default'] == 1].shape #Número de linhas e colunas dos clientes inadimplentes."
   ]
  },
  {
   "cell_type": "markdown",
   "id": "c0e51bbd",
   "metadata": {
    "papermill": {
     "duration": 0.011614,
     "end_time": "2023-10-05T00:02:45.453329",
     "exception": false,
     "start_time": "2023-10-05T00:02:45.441715",
     "status": "completed"
    },
    "tags": []
   },
   "source": [
    "Nesse caso, o número de colunas não nos é de interesse, então desempacotamos as tuplas descartando o número de colunas para calcular a proporção apenas das linhas:"
   ]
  },
  {
   "cell_type": "code",
   "execution_count": 7,
   "id": "1373576c",
   "metadata": {
    "execution": {
     "iopub.execute_input": "2023-10-05T00:02:45.479221Z",
     "iopub.status.busy": "2023-10-05T00:02:45.478887Z",
     "iopub.status.idle": "2023-10-05T00:02:45.487534Z",
     "shell.execute_reply": "2023-10-05T00:02:45.486573Z"
    },
    "papermill": {
     "duration": 0.02371,
     "end_time": "2023-10-05T00:02:45.489377",
     "exception": false,
     "start_time": "2023-10-05T00:02:45.465667",
     "status": "completed"
    },
    "tags": []
   },
   "outputs": [
    {
     "name": "stdout",
     "output_type": "stream",
     "text": [
      "A proporcão clientes adimplentes é de 83.93%\n",
      "A proporcão clientes inadimplentes é de 16.07%\n"
     ]
    }
   ],
   "source": [
    "qtd_total, _ = df.shape #Número total de clientes\n",
    "qtd_adimplentes, _ = df[df['default'] == 0].shape #Número de clientes adimplentes\n",
    "qtd_inadimplentes, _ = df[df['default'] == 1].shape #Número de clientes inadimplentes\n",
    "\n",
    "porcentagem_adimp = round(100 * qtd_adimplentes / qtd_total, 2) #Porcentagem adimplentes\n",
    "porcentagem_inadimp = round(100 * qtd_inadimplentes / qtd_total, 2) #Porcentagem inadimplentes\n",
    "\n",
    "print(f\"A proporcão clientes adimplentes é de {porcentagem_adimp}%\")\n",
    "print(f\"A proporcão clientes inadimplentes é de {porcentagem_inadimp}%\")"
   ]
  },
  {
   "cell_type": "markdown",
   "id": "96170551",
   "metadata": {
    "papermill": {
     "duration": 0.011777,
     "end_time": "2023-10-05T00:02:45.513262",
     "exception": false,
     "start_time": "2023-10-05T00:02:45.501485",
     "status": "completed"
    },
    "tags": []
   },
   "source": [
    "Agora vamos analisar a qualidade dos dados através de uma rápida visualização:"
   ]
  },
  {
   "cell_type": "code",
   "execution_count": 8,
   "id": "3b7a5768",
   "metadata": {
    "execution": {
     "iopub.execute_input": "2023-10-05T00:02:45.538890Z",
     "iopub.status.busy": "2023-10-05T00:02:45.538501Z",
     "iopub.status.idle": "2023-10-05T00:02:45.553418Z",
     "shell.execute_reply": "2023-10-05T00:02:45.552352Z"
    },
    "papermill": {
     "duration": 0.030146,
     "end_time": "2023-10-05T00:02:45.555407",
     "exception": false,
     "start_time": "2023-10-05T00:02:45.525261",
     "status": "completed"
    },
    "tags": []
   },
   "outputs": [
    {
     "data": {
      "text/html": [
       "<div>\n",
       "<style scoped>\n",
       "    .dataframe tbody tr th:only-of-type {\n",
       "        vertical-align: middle;\n",
       "    }\n",
       "\n",
       "    .dataframe tbody tr th {\n",
       "        vertical-align: top;\n",
       "    }\n",
       "\n",
       "    .dataframe thead th {\n",
       "        text-align: right;\n",
       "    }\n",
       "</style>\n",
       "<table border=\"1\" class=\"dataframe\">\n",
       "  <thead>\n",
       "    <tr style=\"text-align: right;\">\n",
       "      <th></th>\n",
       "      <th>id</th>\n",
       "      <th>default</th>\n",
       "      <th>idade</th>\n",
       "      <th>sexo</th>\n",
       "      <th>dependentes</th>\n",
       "      <th>escolaridade</th>\n",
       "      <th>estado_civil</th>\n",
       "      <th>salario_anual</th>\n",
       "      <th>tipo_cartao</th>\n",
       "      <th>meses_de_relacionamento</th>\n",
       "      <th>qtd_produtos</th>\n",
       "      <th>iteracoes_12m</th>\n",
       "      <th>meses_inativo_12m</th>\n",
       "      <th>limite_credito</th>\n",
       "      <th>valor_transacoes_12m</th>\n",
       "      <th>qtd_transacoes_12m</th>\n",
       "    </tr>\n",
       "  </thead>\n",
       "  <tbody>\n",
       "    <tr>\n",
       "      <th>0</th>\n",
       "      <td>768805383</td>\n",
       "      <td>0</td>\n",
       "      <td>45</td>\n",
       "      <td>M</td>\n",
       "      <td>3</td>\n",
       "      <td>ensino medio</td>\n",
       "      <td>casado</td>\n",
       "      <td>$60K - $80K</td>\n",
       "      <td>blue</td>\n",
       "      <td>39</td>\n",
       "      <td>5</td>\n",
       "      <td>3</td>\n",
       "      <td>1</td>\n",
       "      <td>12.691,51</td>\n",
       "      <td>1.144,90</td>\n",
       "      <td>42</td>\n",
       "    </tr>\n",
       "    <tr>\n",
       "      <th>1</th>\n",
       "      <td>818770008</td>\n",
       "      <td>0</td>\n",
       "      <td>49</td>\n",
       "      <td>F</td>\n",
       "      <td>5</td>\n",
       "      <td>mestrado</td>\n",
       "      <td>solteiro</td>\n",
       "      <td>menos que $40K</td>\n",
       "      <td>blue</td>\n",
       "      <td>44</td>\n",
       "      <td>6</td>\n",
       "      <td>2</td>\n",
       "      <td>1</td>\n",
       "      <td>8.256,96</td>\n",
       "      <td>1.291,45</td>\n",
       "      <td>33</td>\n",
       "    </tr>\n",
       "    <tr>\n",
       "      <th>2</th>\n",
       "      <td>713982108</td>\n",
       "      <td>0</td>\n",
       "      <td>51</td>\n",
       "      <td>M</td>\n",
       "      <td>3</td>\n",
       "      <td>mestrado</td>\n",
       "      <td>casado</td>\n",
       "      <td>$80K - $120K</td>\n",
       "      <td>blue</td>\n",
       "      <td>36</td>\n",
       "      <td>4</td>\n",
       "      <td>0</td>\n",
       "      <td>1</td>\n",
       "      <td>3.418,56</td>\n",
       "      <td>1.887,72</td>\n",
       "      <td>20</td>\n",
       "    </tr>\n",
       "    <tr>\n",
       "      <th>3</th>\n",
       "      <td>769911858</td>\n",
       "      <td>0</td>\n",
       "      <td>40</td>\n",
       "      <td>F</td>\n",
       "      <td>4</td>\n",
       "      <td>ensino medio</td>\n",
       "      <td>NaN</td>\n",
       "      <td>menos que $40K</td>\n",
       "      <td>blue</td>\n",
       "      <td>34</td>\n",
       "      <td>3</td>\n",
       "      <td>1</td>\n",
       "      <td>4</td>\n",
       "      <td>3.313,03</td>\n",
       "      <td>1.171,56</td>\n",
       "      <td>20</td>\n",
       "    </tr>\n",
       "    <tr>\n",
       "      <th>4</th>\n",
       "      <td>709106358</td>\n",
       "      <td>0</td>\n",
       "      <td>40</td>\n",
       "      <td>M</td>\n",
       "      <td>3</td>\n",
       "      <td>sem educacao formal</td>\n",
       "      <td>casado</td>\n",
       "      <td>$60K - $80K</td>\n",
       "      <td>blue</td>\n",
       "      <td>21</td>\n",
       "      <td>5</td>\n",
       "      <td>0</td>\n",
       "      <td>1</td>\n",
       "      <td>4.716,22</td>\n",
       "      <td>816,08</td>\n",
       "      <td>28</td>\n",
       "    </tr>\n",
       "  </tbody>\n",
       "</table>\n",
       "</div>"
      ],
      "text/plain": [
       "          id  default  idade sexo  dependentes         escolaridade  \\\n",
       "0  768805383        0     45    M            3         ensino medio   \n",
       "1  818770008        0     49    F            5             mestrado   \n",
       "2  713982108        0     51    M            3             mestrado   \n",
       "3  769911858        0     40    F            4         ensino medio   \n",
       "4  709106358        0     40    M            3  sem educacao formal   \n",
       "\n",
       "  estado_civil   salario_anual tipo_cartao  meses_de_relacionamento  \\\n",
       "0       casado     $60K - $80K        blue                       39   \n",
       "1     solteiro  menos que $40K        blue                       44   \n",
       "2       casado    $80K - $120K        blue                       36   \n",
       "3          NaN  menos que $40K        blue                       34   \n",
       "4       casado     $60K - $80K        blue                       21   \n",
       "\n",
       "   qtd_produtos  iteracoes_12m  meses_inativo_12m limite_credito  \\\n",
       "0             5              3                  1      12.691,51   \n",
       "1             6              2                  1       8.256,96   \n",
       "2             4              0                  1       3.418,56   \n",
       "3             3              1                  4       3.313,03   \n",
       "4             5              0                  1       4.716,22   \n",
       "\n",
       "  valor_transacoes_12m  qtd_transacoes_12m  \n",
       "0             1.144,90                  42  \n",
       "1             1.291,45                  33  \n",
       "2             1.887,72                  20  \n",
       "3             1.171,56                  20  \n",
       "4               816,08                  28  "
      ]
     },
     "execution_count": 8,
     "metadata": {},
     "output_type": "execute_result"
    }
   ],
   "source": [
    "df.head()"
   ]
  },
  {
   "cell_type": "markdown",
   "id": "1f6362ee",
   "metadata": {
    "papermill": {
     "duration": 0.012066,
     "end_time": "2023-10-05T00:02:45.580302",
     "exception": false,
     "start_time": "2023-10-05T00:02:45.568236",
     "status": "completed"
    },
    "tags": []
   },
   "source": [
    "Podemos ver que existem dados de tipos variados. Nossas colunas de interesse devem ser numéricas a fim de que possamos realizar análises gráficas comparativas. Vamos conferir qual o tipo de dado em cada coluna:"
   ]
  },
  {
   "cell_type": "code",
   "execution_count": 9,
   "id": "05712431",
   "metadata": {
    "execution": {
     "iopub.execute_input": "2023-10-05T00:02:45.606400Z",
     "iopub.status.busy": "2023-10-05T00:02:45.606003Z",
     "iopub.status.idle": "2023-10-05T00:02:45.614228Z",
     "shell.execute_reply": "2023-10-05T00:02:45.613132Z"
    },
    "papermill": {
     "duration": 0.023754,
     "end_time": "2023-10-05T00:02:45.616344",
     "exception": false,
     "start_time": "2023-10-05T00:02:45.592590",
     "status": "completed"
    },
    "tags": []
   },
   "outputs": [
    {
     "data": {
      "text/plain": [
       "id                          int64\n",
       "default                     int64\n",
       "idade                       int64\n",
       "sexo                       object\n",
       "dependentes                 int64\n",
       "escolaridade               object\n",
       "estado_civil               object\n",
       "salario_anual              object\n",
       "tipo_cartao                object\n",
       "meses_de_relacionamento     int64\n",
       "qtd_produtos                int64\n",
       "iteracoes_12m               int64\n",
       "meses_inativo_12m           int64\n",
       "limite_credito             object\n",
       "valor_transacoes_12m       object\n",
       "qtd_transacoes_12m          int64\n",
       "dtype: object"
      ]
     },
     "execution_count": 9,
     "metadata": {},
     "output_type": "execute_result"
    }
   ],
   "source": [
    "df.dtypes"
   ]
  },
  {
   "cell_type": "markdown",
   "id": "be2da23b",
   "metadata": {
    "papermill": {
     "duration": 0.012255,
     "end_time": "2023-10-05T00:02:45.641235",
     "exception": false,
     "start_time": "2023-10-05T00:02:45.628980",
     "status": "completed"
    },
    "tags": []
   },
   "source": [
    "Alguns dados são numéricos (int64) enquanto outros são strings (object). Além disso as colunas \"limite_credito\" e \"valor_transacoes_12m\" estão com os dados no formato incorreto, e consequentemente o valor que deveria ser numérico está sendo interpretado como uma string. Iremos corrigir esses dados nos próximos passos. Vamos obter mais estatísticas usando o método 'describe' para cada tipo de dados, separadamente:"
   ]
  },
  {
   "cell_type": "code",
   "execution_count": 10,
   "id": "5dda273b",
   "metadata": {
    "execution": {
     "iopub.execute_input": "2023-10-05T00:02:45.668214Z",
     "iopub.status.busy": "2023-10-05T00:02:45.667248Z",
     "iopub.status.idle": "2023-10-05T00:02:45.707346Z",
     "shell.execute_reply": "2023-10-05T00:02:45.706536Z"
    },
    "papermill": {
     "duration": 0.055919,
     "end_time": "2023-10-05T00:02:45.709523",
     "exception": false,
     "start_time": "2023-10-05T00:02:45.653604",
     "status": "completed"
    },
    "tags": []
   },
   "outputs": [
    {
     "data": {
      "text/html": [
       "<div>\n",
       "<style scoped>\n",
       "    .dataframe tbody tr th:only-of-type {\n",
       "        vertical-align: middle;\n",
       "    }\n",
       "\n",
       "    .dataframe tbody tr th {\n",
       "        vertical-align: top;\n",
       "    }\n",
       "\n",
       "    .dataframe thead th {\n",
       "        text-align: right;\n",
       "    }\n",
       "</style>\n",
       "<table border=\"1\" class=\"dataframe\">\n",
       "  <thead>\n",
       "    <tr style=\"text-align: right;\">\n",
       "      <th></th>\n",
       "      <th>count</th>\n",
       "      <th>unique</th>\n",
       "      <th>top</th>\n",
       "      <th>freq</th>\n",
       "    </tr>\n",
       "  </thead>\n",
       "  <tbody>\n",
       "    <tr>\n",
       "      <th>sexo</th>\n",
       "      <td>10127</td>\n",
       "      <td>2</td>\n",
       "      <td>F</td>\n",
       "      <td>5358</td>\n",
       "    </tr>\n",
       "    <tr>\n",
       "      <th>escolaridade</th>\n",
       "      <td>8608</td>\n",
       "      <td>5</td>\n",
       "      <td>mestrado</td>\n",
       "      <td>3128</td>\n",
       "    </tr>\n",
       "    <tr>\n",
       "      <th>estado_civil</th>\n",
       "      <td>9378</td>\n",
       "      <td>3</td>\n",
       "      <td>casado</td>\n",
       "      <td>4687</td>\n",
       "    </tr>\n",
       "    <tr>\n",
       "      <th>salario_anual</th>\n",
       "      <td>9015</td>\n",
       "      <td>5</td>\n",
       "      <td>menos que $40K</td>\n",
       "      <td>3561</td>\n",
       "    </tr>\n",
       "    <tr>\n",
       "      <th>tipo_cartao</th>\n",
       "      <td>10127</td>\n",
       "      <td>4</td>\n",
       "      <td>blue</td>\n",
       "      <td>9436</td>\n",
       "    </tr>\n",
       "    <tr>\n",
       "      <th>limite_credito</th>\n",
       "      <td>10127</td>\n",
       "      <td>9272</td>\n",
       "      <td>1.438,21</td>\n",
       "      <td>11</td>\n",
       "    </tr>\n",
       "    <tr>\n",
       "      <th>valor_transacoes_12m</th>\n",
       "      <td>10127</td>\n",
       "      <td>10035</td>\n",
       "      <td>3.851,51</td>\n",
       "      <td>3</td>\n",
       "    </tr>\n",
       "  </tbody>\n",
       "</table>\n",
       "</div>"
      ],
      "text/plain": [
       "                      count unique             top  freq\n",
       "sexo                  10127      2               F  5358\n",
       "escolaridade           8608      5        mestrado  3128\n",
       "estado_civil           9378      3          casado  4687\n",
       "salario_anual          9015      5  menos que $40K  3561\n",
       "tipo_cartao           10127      4            blue  9436\n",
       "limite_credito        10127   9272        1.438,21    11\n",
       "valor_transacoes_12m  10127  10035        3.851,51     3"
      ]
     },
     "execution_count": 10,
     "metadata": {},
     "output_type": "execute_result"
    }
   ],
   "source": [
    "df.select_dtypes('object').describe().transpose() #Descrição dos dados das strings"
   ]
  },
  {
   "cell_type": "code",
   "execution_count": 11,
   "id": "9efd6202",
   "metadata": {
    "execution": {
     "iopub.execute_input": "2023-10-05T00:02:45.736928Z",
     "iopub.status.busy": "2023-10-05T00:02:45.736221Z",
     "iopub.status.idle": "2023-10-05T00:02:45.776708Z",
     "shell.execute_reply": "2023-10-05T00:02:45.775663Z"
    },
    "papermill": {
     "duration": 0.056422,
     "end_time": "2023-10-05T00:02:45.778846",
     "exception": false,
     "start_time": "2023-10-05T00:02:45.722424",
     "status": "completed"
    },
    "tags": []
   },
   "outputs": [
    {
     "data": {
      "text/html": [
       "<div>\n",
       "<style scoped>\n",
       "    .dataframe tbody tr th:only-of-type {\n",
       "        vertical-align: middle;\n",
       "    }\n",
       "\n",
       "    .dataframe tbody tr th {\n",
       "        vertical-align: top;\n",
       "    }\n",
       "\n",
       "    .dataframe thead th {\n",
       "        text-align: right;\n",
       "    }\n",
       "</style>\n",
       "<table border=\"1\" class=\"dataframe\">\n",
       "  <thead>\n",
       "    <tr style=\"text-align: right;\">\n",
       "      <th></th>\n",
       "      <th>count</th>\n",
       "      <th>mean</th>\n",
       "      <th>std</th>\n",
       "      <th>min</th>\n",
       "      <th>25%</th>\n",
       "      <th>50%</th>\n",
       "      <th>75%</th>\n",
       "      <th>max</th>\n",
       "    </tr>\n",
       "  </thead>\n",
       "  <tbody>\n",
       "    <tr>\n",
       "      <th>default</th>\n",
       "      <td>10127.0</td>\n",
       "      <td>0.160660</td>\n",
       "      <td>0.367235</td>\n",
       "      <td>0.0</td>\n",
       "      <td>0.0</td>\n",
       "      <td>0.0</td>\n",
       "      <td>0.0</td>\n",
       "      <td>1.0</td>\n",
       "    </tr>\n",
       "    <tr>\n",
       "      <th>idade</th>\n",
       "      <td>10127.0</td>\n",
       "      <td>46.325960</td>\n",
       "      <td>8.016814</td>\n",
       "      <td>26.0</td>\n",
       "      <td>41.0</td>\n",
       "      <td>46.0</td>\n",
       "      <td>52.0</td>\n",
       "      <td>73.0</td>\n",
       "    </tr>\n",
       "    <tr>\n",
       "      <th>dependentes</th>\n",
       "      <td>10127.0</td>\n",
       "      <td>2.346203</td>\n",
       "      <td>1.298908</td>\n",
       "      <td>0.0</td>\n",
       "      <td>1.0</td>\n",
       "      <td>2.0</td>\n",
       "      <td>3.0</td>\n",
       "      <td>5.0</td>\n",
       "    </tr>\n",
       "    <tr>\n",
       "      <th>meses_de_relacionamento</th>\n",
       "      <td>10127.0</td>\n",
       "      <td>35.928409</td>\n",
       "      <td>7.986416</td>\n",
       "      <td>13.0</td>\n",
       "      <td>31.0</td>\n",
       "      <td>36.0</td>\n",
       "      <td>40.0</td>\n",
       "      <td>56.0</td>\n",
       "    </tr>\n",
       "    <tr>\n",
       "      <th>qtd_produtos</th>\n",
       "      <td>10127.0</td>\n",
       "      <td>3.812580</td>\n",
       "      <td>1.554408</td>\n",
       "      <td>1.0</td>\n",
       "      <td>3.0</td>\n",
       "      <td>4.0</td>\n",
       "      <td>5.0</td>\n",
       "      <td>6.0</td>\n",
       "    </tr>\n",
       "    <tr>\n",
       "      <th>iteracoes_12m</th>\n",
       "      <td>10127.0</td>\n",
       "      <td>2.455317</td>\n",
       "      <td>1.106225</td>\n",
       "      <td>0.0</td>\n",
       "      <td>2.0</td>\n",
       "      <td>2.0</td>\n",
       "      <td>3.0</td>\n",
       "      <td>6.0</td>\n",
       "    </tr>\n",
       "    <tr>\n",
       "      <th>meses_inativo_12m</th>\n",
       "      <td>10127.0</td>\n",
       "      <td>2.341167</td>\n",
       "      <td>1.010622</td>\n",
       "      <td>0.0</td>\n",
       "      <td>2.0</td>\n",
       "      <td>2.0</td>\n",
       "      <td>3.0</td>\n",
       "      <td>6.0</td>\n",
       "    </tr>\n",
       "    <tr>\n",
       "      <th>qtd_transacoes_12m</th>\n",
       "      <td>10127.0</td>\n",
       "      <td>64.858695</td>\n",
       "      <td>23.472570</td>\n",
       "      <td>10.0</td>\n",
       "      <td>45.0</td>\n",
       "      <td>67.0</td>\n",
       "      <td>81.0</td>\n",
       "      <td>139.0</td>\n",
       "    </tr>\n",
       "  </tbody>\n",
       "</table>\n",
       "</div>"
      ],
      "text/plain": [
       "                           count       mean        std   min   25%   50%  \\\n",
       "default                  10127.0   0.160660   0.367235   0.0   0.0   0.0   \n",
       "idade                    10127.0  46.325960   8.016814  26.0  41.0  46.0   \n",
       "dependentes              10127.0   2.346203   1.298908   0.0   1.0   2.0   \n",
       "meses_de_relacionamento  10127.0  35.928409   7.986416  13.0  31.0  36.0   \n",
       "qtd_produtos             10127.0   3.812580   1.554408   1.0   3.0   4.0   \n",
       "iteracoes_12m            10127.0   2.455317   1.106225   0.0   2.0   2.0   \n",
       "meses_inativo_12m        10127.0   2.341167   1.010622   0.0   2.0   2.0   \n",
       "qtd_transacoes_12m       10127.0  64.858695  23.472570  10.0  45.0  67.0   \n",
       "\n",
       "                          75%    max  \n",
       "default                   0.0    1.0  \n",
       "idade                    52.0   73.0  \n",
       "dependentes               3.0    5.0  \n",
       "meses_de_relacionamento  40.0   56.0  \n",
       "qtd_produtos              5.0    6.0  \n",
       "iteracoes_12m             3.0    6.0  \n",
       "meses_inativo_12m         3.0    6.0  \n",
       "qtd_transacoes_12m       81.0  139.0  "
      ]
     },
     "execution_count": 11,
     "metadata": {},
     "output_type": "execute_result"
    }
   ],
   "source": [
    "df.drop('id', axis=1).select_dtypes('number').describe().transpose() #Descrição dos dados numéricos, excluindo a chave id"
   ]
  },
  {
   "cell_type": "markdown",
   "id": "7d2ff9a1",
   "metadata": {
    "papermill": {
     "duration": 0.01337,
     "end_time": "2023-10-05T00:02:45.805978",
     "exception": false,
     "start_time": "2023-10-05T00:02:45.792608",
     "status": "completed"
    },
    "tags": []
   },
   "source": [
    "Podemos notar que para os objetos, algumas colunas estão completas (possuem 10127 linhas) enquanto outras estão incompletas (escolaridade, estado_civil, salario_anual). Confirmamos isso abaixo ao utilizar o método que verifica se existem dados faltantes:"
   ]
  },
  {
   "cell_type": "code",
   "execution_count": 12,
   "id": "9a8fed04",
   "metadata": {
    "execution": {
     "iopub.execute_input": "2023-10-05T00:02:45.837254Z",
     "iopub.status.busy": "2023-10-05T00:02:45.836885Z",
     "iopub.status.idle": "2023-10-05T00:02:45.855415Z",
     "shell.execute_reply": "2023-10-05T00:02:45.854384Z"
    },
    "papermill": {
     "duration": 0.037247,
     "end_time": "2023-10-05T00:02:45.857397",
     "exception": false,
     "start_time": "2023-10-05T00:02:45.820150",
     "status": "completed"
    },
    "tags": []
   },
   "outputs": [
    {
     "data": {
      "text/plain": [
       "id                         False\n",
       "default                    False\n",
       "idade                      False\n",
       "sexo                       False\n",
       "dependentes                False\n",
       "escolaridade                True\n",
       "estado_civil                True\n",
       "salario_anual               True\n",
       "tipo_cartao                False\n",
       "meses_de_relacionamento    False\n",
       "qtd_produtos               False\n",
       "iteracoes_12m              False\n",
       "meses_inativo_12m          False\n",
       "limite_credito             False\n",
       "valor_transacoes_12m       False\n",
       "qtd_transacoes_12m         False\n",
       "dtype: bool"
      ]
     },
     "execution_count": 12,
     "metadata": {},
     "output_type": "execute_result"
    }
   ],
   "source": [
    "df.isna().any()"
   ]
  },
  {
   "cell_type": "markdown",
   "id": "a73a243d",
   "metadata": {
    "papermill": {
     "duration": 0.01291,
     "end_time": "2023-10-05T00:02:45.883897",
     "exception": false,
     "start_time": "2023-10-05T00:02:45.870987",
     "status": "completed"
    },
    "tags": []
   },
   "source": [
    "Como esperado, as colunas \"escolaridade\", \"estado_civil\", e \"salario_anual\" possuem dados faltantes. "
   ]
  },
  {
   "cell_type": "markdown",
   "id": "7d7fbb1b",
   "metadata": {
    "papermill": {
     "duration": 0.012537,
     "end_time": "2023-10-05T00:02:45.909575",
     "exception": false,
     "start_time": "2023-10-05T00:02:45.897038",
     "status": "completed"
    },
    "tags": []
   },
   "source": [
    "Entre essas colunas incompletas estão alguns dos nossos fatores de interesse, então precisamos analisar o impacto desses dados faltantes em nossa estatística. "
   ]
  },
  {
   "cell_type": "markdown",
   "id": "73b6d29d",
   "metadata": {
    "papermill": {
     "duration": 0.012649,
     "end_time": "2023-10-05T00:02:45.935178",
     "exception": false,
     "start_time": "2023-10-05T00:02:45.922529",
     "status": "completed"
    },
    "tags": []
   },
   "source": [
    "Para isso, criamos uma função que calcula a porcentagem dos dados faltantes em um DataFrame, e aplicamos a função primeiro para o DataFrame todo, e depois separadamente para os clientes adimplentes e o inadimplentes, a fim de comparar as proporções. Caso as proporções sejam muito diferentes, a remoção das linhas incompletas influenciará no resultado. Caso a proporção se mantenha equilibrada, podemos remover os dados sem afetar a estatística.  "
   ]
  },
  {
   "cell_type": "code",
   "execution_count": 13,
   "id": "bf2c0e5c",
   "metadata": {
    "execution": {
     "iopub.execute_input": "2023-10-05T00:02:45.963014Z",
     "iopub.status.busy": "2023-10-05T00:02:45.962386Z",
     "iopub.status.idle": "2023-10-05T00:02:45.968456Z",
     "shell.execute_reply": "2023-10-05T00:02:45.967807Z"
    },
    "papermill": {
     "duration": 0.022235,
     "end_time": "2023-10-05T00:02:45.970286",
     "exception": false,
     "start_time": "2023-10-05T00:02:45.948051",
     "status": "completed"
    },
    "tags": []
   },
   "outputs": [],
   "source": [
    "def stats_dados_faltantes(df: pd.DataFrame) -> None:\n",
    "\n",
    "  stats_dados_faltantes = []\n",
    "  for col in df.columns:      #para cada coluna do DataFrame\n",
    "    if df[col].isna().any():      #se a coluna possui dado faltante\n",
    "      qtd, _ = df[df[col].isna()].shape      #obtemos o número de linhas onde o dado é faltante\n",
    "      total, _ = df.shape      #número de linhas total\n",
    "      dict_dados_faltantes = {col: {'quantidade': qtd, \"porcentagem\": round(100 * qtd/total, 2)}}\n",
    "      stats_dados_faltantes.append(dict_dados_faltantes)\n",
    "\n",
    "  for stat in stats_dados_faltantes:\n",
    "   print(stat)"
   ]
  },
  {
   "cell_type": "code",
   "execution_count": 14,
   "id": "283cb636",
   "metadata": {
    "execution": {
     "iopub.execute_input": "2023-10-05T00:02:45.998245Z",
     "iopub.status.busy": "2023-10-05T00:02:45.997572Z",
     "iopub.status.idle": "2023-10-05T00:02:46.013567Z",
     "shell.execute_reply": "2023-10-05T00:02:46.012386Z"
    },
    "papermill": {
     "duration": 0.032362,
     "end_time": "2023-10-05T00:02:46.015642",
     "exception": false,
     "start_time": "2023-10-05T00:02:45.983280",
     "status": "completed"
    },
    "tags": []
   },
   "outputs": [
    {
     "name": "stdout",
     "output_type": "stream",
     "text": [
      "{'escolaridade': {'quantidade': 1519, 'porcentagem': 15.0}}\n",
      "{'estado_civil': {'quantidade': 749, 'porcentagem': 7.4}}\n",
      "{'salario_anual': {'quantidade': 1112, 'porcentagem': 10.98}}\n"
     ]
    }
   ],
   "source": [
    "stats_dados_faltantes(df=df) #Calculando no DataFrame completo"
   ]
  },
  {
   "cell_type": "code",
   "execution_count": 15,
   "id": "dc8cb74d",
   "metadata": {
    "execution": {
     "iopub.execute_input": "2023-10-05T00:02:46.043992Z",
     "iopub.status.busy": "2023-10-05T00:02:46.042994Z",
     "iopub.status.idle": "2023-10-05T00:02:46.059857Z",
     "shell.execute_reply": "2023-10-05T00:02:46.058370Z"
    },
    "papermill": {
     "duration": 0.033019,
     "end_time": "2023-10-05T00:02:46.061894",
     "exception": false,
     "start_time": "2023-10-05T00:02:46.028875",
     "status": "completed"
    },
    "tags": []
   },
   "outputs": [
    {
     "name": "stdout",
     "output_type": "stream",
     "text": [
      "{'escolaridade': {'quantidade': 1263, 'porcentagem': 14.86}}\n",
      "{'estado_civil': {'quantidade': 620, 'porcentagem': 7.29}}\n",
      "{'salario_anual': {'quantidade': 925, 'porcentagem': 10.88}}\n"
     ]
    }
   ],
   "source": [
    "stats_dados_faltantes(df=df[df['default'] == 0]) #Calculando apenas para os clientes adimplentes"
   ]
  },
  {
   "cell_type": "code",
   "execution_count": 16,
   "id": "67f840ae",
   "metadata": {
    "execution": {
     "iopub.execute_input": "2023-10-05T00:02:46.089682Z",
     "iopub.status.busy": "2023-10-05T00:02:46.089322Z",
     "iopub.status.idle": "2023-10-05T00:02:46.100254Z",
     "shell.execute_reply": "2023-10-05T00:02:46.099261Z"
    },
    "papermill": {
     "duration": 0.026957,
     "end_time": "2023-10-05T00:02:46.102046",
     "exception": false,
     "start_time": "2023-10-05T00:02:46.075089",
     "status": "completed"
    },
    "tags": []
   },
   "outputs": [
    {
     "name": "stdout",
     "output_type": "stream",
     "text": [
      "{'escolaridade': {'quantidade': 256, 'porcentagem': 15.73}}\n",
      "{'estado_civil': {'quantidade': 129, 'porcentagem': 7.93}}\n",
      "{'salario_anual': {'quantidade': 187, 'porcentagem': 11.49}}\n"
     ]
    }
   ],
   "source": [
    "stats_dados_faltantes(df=df[df['default'] == 1]) #Calculando para os clientes inadimplentes"
   ]
  },
  {
   "cell_type": "markdown",
   "id": "bd8e7642",
   "metadata": {
    "papermill": {
     "duration": 0.012945,
     "end_time": "2023-10-05T00:02:46.128353",
     "exception": false,
     "start_time": "2023-10-05T00:02:46.115408",
     "status": "completed"
    },
    "tags": []
   },
   "source": [
    "Aplicando a função, vemos que a porcentagem dos dados faltantes é aproximadamente a mesma para os 3 conjuntos de dados. Em torno de 15%, 7.5%, 11% respectivamente para escolaridade, estado_civil, e salario_anual. Portanto, esses dados podem ser removidos sem impactar os resultados.   "
   ]
  },
  {
   "cell_type": "markdown",
   "id": "e06c67f7",
   "metadata": {
    "papermill": {
     "duration": 0.012878,
     "end_time": "2023-10-05T00:02:46.154336",
     "exception": false,
     "start_time": "2023-10-05T00:02:46.141458",
     "status": "completed"
    },
    "tags": []
   },
   "source": [
    "# Adequação e Transformação dos Dados  "
   ]
  },
  {
   "cell_type": "markdown",
   "id": "cbaa7f36",
   "metadata": {
    "papermill": {
     "duration": 0.012534,
     "end_time": "2023-10-05T00:02:46.179767",
     "exception": false,
     "start_time": "2023-10-05T00:02:46.167233",
     "status": "completed"
    },
    "tags": []
   },
   "source": [
    "É necessário corrigir o formato das colunas limite_credito e valor_transacoes_12m, para que sejam interpretadas corretamente como sendo do tipo numérico. Esse é o formato atual dessas colunas:"
   ]
  },
  {
   "cell_type": "code",
   "execution_count": 17,
   "id": "6c1dc491",
   "metadata": {
    "execution": {
     "iopub.execute_input": "2023-10-05T00:02:46.207683Z",
     "iopub.status.busy": "2023-10-05T00:02:46.207129Z",
     "iopub.status.idle": "2023-10-05T00:02:46.214827Z",
     "shell.execute_reply": "2023-10-05T00:02:46.213987Z"
    },
    "papermill": {
     "duration": 0.023795,
     "end_time": "2023-10-05T00:02:46.216565",
     "exception": false,
     "start_time": "2023-10-05T00:02:46.192770",
     "status": "completed"
    },
    "tags": []
   },
   "outputs": [
    {
     "data": {
      "text/plain": [
       "limite_credito          object\n",
       "valor_transacoes_12m    object\n",
       "dtype: object"
      ]
     },
     "execution_count": 17,
     "metadata": {},
     "output_type": "execute_result"
    }
   ],
   "source": [
    "df[['limite_credito', 'valor_transacoes_12m']].dtypes"
   ]
  },
  {
   "cell_type": "code",
   "execution_count": 18,
   "id": "cfe2af3a",
   "metadata": {
    "execution": {
     "iopub.execute_input": "2023-10-05T00:02:46.244934Z",
     "iopub.status.busy": "2023-10-05T00:02:46.244543Z",
     "iopub.status.idle": "2023-10-05T00:02:46.255691Z",
     "shell.execute_reply": "2023-10-05T00:02:46.254655Z"
    },
    "papermill": {
     "duration": 0.02762,
     "end_time": "2023-10-05T00:02:46.257689",
     "exception": false,
     "start_time": "2023-10-05T00:02:46.230069",
     "status": "completed"
    },
    "tags": []
   },
   "outputs": [
    {
     "data": {
      "text/html": [
       "<div>\n",
       "<style scoped>\n",
       "    .dataframe tbody tr th:only-of-type {\n",
       "        vertical-align: middle;\n",
       "    }\n",
       "\n",
       "    .dataframe tbody tr th {\n",
       "        vertical-align: top;\n",
       "    }\n",
       "\n",
       "    .dataframe thead th {\n",
       "        text-align: right;\n",
       "    }\n",
       "</style>\n",
       "<table border=\"1\" class=\"dataframe\">\n",
       "  <thead>\n",
       "    <tr style=\"text-align: right;\">\n",
       "      <th></th>\n",
       "      <th>limite_credito</th>\n",
       "      <th>valor_transacoes_12m</th>\n",
       "    </tr>\n",
       "  </thead>\n",
       "  <tbody>\n",
       "    <tr>\n",
       "      <th>0</th>\n",
       "      <td>12.691,51</td>\n",
       "      <td>1.144,90</td>\n",
       "    </tr>\n",
       "    <tr>\n",
       "      <th>1</th>\n",
       "      <td>8.256,96</td>\n",
       "      <td>1.291,45</td>\n",
       "    </tr>\n",
       "    <tr>\n",
       "      <th>2</th>\n",
       "      <td>3.418,56</td>\n",
       "      <td>1.887,72</td>\n",
       "    </tr>\n",
       "    <tr>\n",
       "      <th>3</th>\n",
       "      <td>3.313,03</td>\n",
       "      <td>1.171,56</td>\n",
       "    </tr>\n",
       "    <tr>\n",
       "      <th>4</th>\n",
       "      <td>4.716,22</td>\n",
       "      <td>816,08</td>\n",
       "    </tr>\n",
       "  </tbody>\n",
       "</table>\n",
       "</div>"
      ],
      "text/plain": [
       "  limite_credito valor_transacoes_12m\n",
       "0      12.691,51             1.144,90\n",
       "1       8.256,96             1.291,45\n",
       "2       3.418,56             1.887,72\n",
       "3       3.313,03             1.171,56\n",
       "4       4.716,22               816,08"
      ]
     },
     "execution_count": 18,
     "metadata": {},
     "output_type": "execute_result"
    }
   ],
   "source": [
    "df[['limite_credito', 'valor_transacoes_12m']].head(n=5)"
   ]
  },
  {
   "cell_type": "raw",
   "id": "fa9ce585",
   "metadata": {
    "papermill": {
     "duration": 0.01353,
     "end_time": "2023-10-05T00:02:46.284939",
     "exception": false,
     "start_time": "2023-10-05T00:02:46.271409",
     "status": "completed"
    },
    "tags": []
   },
   "source": [
    "A formatação correta se resulta ao remover o ponto, e substituir a vírgula pelo ponto, nessa ordem. Para isso criamos uma função simples:"
   ]
  },
  {
   "cell_type": "code",
   "execution_count": 19,
   "id": "b6fd8b74",
   "metadata": {
    "execution": {
     "iopub.execute_input": "2023-10-05T00:02:46.314176Z",
     "iopub.status.busy": "2023-10-05T00:02:46.313105Z",
     "iopub.status.idle": "2023-10-05T00:02:46.318480Z",
     "shell.execute_reply": "2023-10-05T00:02:46.317730Z"
    },
    "papermill": {
     "duration": 0.021805,
     "end_time": "2023-10-05T00:02:46.320352",
     "exception": false,
     "start_time": "2023-10-05T00:02:46.298547",
     "status": "completed"
    },
    "tags": []
   },
   "outputs": [],
   "source": [
    "fn = lambda valor: float(valor.replace(\".\", \"\").replace(\",\", \".\"))"
   ]
  },
  {
   "cell_type": "markdown",
   "id": "84eabae4",
   "metadata": {
    "papermill": {
     "duration": 0.013437,
     "end_time": "2023-10-05T00:02:46.347404",
     "exception": false,
     "start_time": "2023-10-05T00:02:46.333967",
     "status": "completed"
    },
    "tags": []
   },
   "source": [
    "E aplicamos a função para as colunas:"
   ]
  },
  {
   "cell_type": "code",
   "execution_count": 20,
   "id": "292f4b99",
   "metadata": {
    "execution": {
     "iopub.execute_input": "2023-10-05T00:02:46.376578Z",
     "iopub.status.busy": "2023-10-05T00:02:46.375544Z",
     "iopub.status.idle": "2023-10-05T00:02:46.394465Z",
     "shell.execute_reply": "2023-10-05T00:02:46.393485Z"
    },
    "papermill": {
     "duration": 0.035813,
     "end_time": "2023-10-05T00:02:46.396745",
     "exception": false,
     "start_time": "2023-10-05T00:02:46.360932",
     "status": "completed"
    },
    "tags": []
   },
   "outputs": [],
   "source": [
    "df['valor_transacoes_12m'] = df['valor_transacoes_12m'].apply(fn)\n",
    "df['limite_credito'] = df['limite_credito'].apply(fn)"
   ]
  },
  {
   "cell_type": "markdown",
   "id": "a9a4a71e",
   "metadata": {
    "papermill": {
     "duration": 0.013519,
     "end_time": "2023-10-05T00:02:46.424366",
     "exception": false,
     "start_time": "2023-10-05T00:02:46.410847",
     "status": "completed"
    },
    "tags": []
   },
   "source": [
    "Exibindo os dados novamente para confirmar a correção:"
   ]
  },
  {
   "cell_type": "code",
   "execution_count": 21,
   "id": "f6a3c799",
   "metadata": {
    "execution": {
     "iopub.execute_input": "2023-10-05T00:02:46.455394Z",
     "iopub.status.busy": "2023-10-05T00:02:46.454365Z",
     "iopub.status.idle": "2023-10-05T00:02:46.465755Z",
     "shell.execute_reply": "2023-10-05T00:02:46.464703Z"
    },
    "papermill": {
     "duration": 0.028789,
     "end_time": "2023-10-05T00:02:46.467835",
     "exception": false,
     "start_time": "2023-10-05T00:02:46.439046",
     "status": "completed"
    },
    "tags": []
   },
   "outputs": [
    {
     "data": {
      "text/html": [
       "<div>\n",
       "<style scoped>\n",
       "    .dataframe tbody tr th:only-of-type {\n",
       "        vertical-align: middle;\n",
       "    }\n",
       "\n",
       "    .dataframe tbody tr th {\n",
       "        vertical-align: top;\n",
       "    }\n",
       "\n",
       "    .dataframe thead th {\n",
       "        text-align: right;\n",
       "    }\n",
       "</style>\n",
       "<table border=\"1\" class=\"dataframe\">\n",
       "  <thead>\n",
       "    <tr style=\"text-align: right;\">\n",
       "      <th></th>\n",
       "      <th>limite_credito</th>\n",
       "      <th>valor_transacoes_12m</th>\n",
       "    </tr>\n",
       "  </thead>\n",
       "  <tbody>\n",
       "    <tr>\n",
       "      <th>0</th>\n",
       "      <td>12691.51</td>\n",
       "      <td>1144.90</td>\n",
       "    </tr>\n",
       "    <tr>\n",
       "      <th>1</th>\n",
       "      <td>8256.96</td>\n",
       "      <td>1291.45</td>\n",
       "    </tr>\n",
       "    <tr>\n",
       "      <th>2</th>\n",
       "      <td>3418.56</td>\n",
       "      <td>1887.72</td>\n",
       "    </tr>\n",
       "    <tr>\n",
       "      <th>3</th>\n",
       "      <td>3313.03</td>\n",
       "      <td>1171.56</td>\n",
       "    </tr>\n",
       "    <tr>\n",
       "      <th>4</th>\n",
       "      <td>4716.22</td>\n",
       "      <td>816.08</td>\n",
       "    </tr>\n",
       "  </tbody>\n",
       "</table>\n",
       "</div>"
      ],
      "text/plain": [
       "   limite_credito  valor_transacoes_12m\n",
       "0        12691.51               1144.90\n",
       "1         8256.96               1291.45\n",
       "2         3418.56               1887.72\n",
       "3         3313.03               1171.56\n",
       "4         4716.22                816.08"
      ]
     },
     "execution_count": 21,
     "metadata": {},
     "output_type": "execute_result"
    }
   ],
   "source": [
    "df[['limite_credito', 'valor_transacoes_12m']].head(n=5)\n"
   ]
  },
  {
   "cell_type": "code",
   "execution_count": 22,
   "id": "d577feef",
   "metadata": {
    "execution": {
     "iopub.execute_input": "2023-10-05T00:02:46.496744Z",
     "iopub.status.busy": "2023-10-05T00:02:46.496165Z",
     "iopub.status.idle": "2023-10-05T00:02:46.504130Z",
     "shell.execute_reply": "2023-10-05T00:02:46.503249Z"
    },
    "papermill": {
     "duration": 0.024341,
     "end_time": "2023-10-05T00:02:46.505875",
     "exception": false,
     "start_time": "2023-10-05T00:02:46.481534",
     "status": "completed"
    },
    "tags": []
   },
   "outputs": [
    {
     "data": {
      "text/plain": [
       "limite_credito          float64\n",
       "valor_transacoes_12m    float64\n",
       "dtype: object"
      ]
     },
     "execution_count": 22,
     "metadata": {},
     "output_type": "execute_result"
    }
   ],
   "source": [
    "df[['limite_credito', 'valor_transacoes_12m']].dtypes"
   ]
  },
  {
   "cell_type": "markdown",
   "id": "581a1656",
   "metadata": {
    "papermill": {
     "duration": 0.013196,
     "end_time": "2023-10-05T00:02:46.532526",
     "exception": false,
     "start_time": "2023-10-05T00:02:46.519330",
     "status": "completed"
    },
    "tags": []
   },
   "source": [
    "Os dados foram corrigidos com sucesso.  "
   ]
  },
  {
   "cell_type": "markdown",
   "id": "c9f9494a",
   "metadata": {
    "papermill": {
     "duration": 0.013202,
     "end_time": "2023-10-05T00:02:46.559313",
     "exception": false,
     "start_time": "2023-10-05T00:02:46.546111",
     "status": "completed"
    },
    "tags": []
   },
   "source": [
    "Como concluído previamente que podemos remover os dados faltantes sem problemas, procedemos com a remoção:"
   ]
  },
  {
   "cell_type": "code",
   "execution_count": 23,
   "id": "152cac16",
   "metadata": {
    "execution": {
     "iopub.execute_input": "2023-10-05T00:02:46.589438Z",
     "iopub.status.busy": "2023-10-05T00:02:46.588856Z",
     "iopub.status.idle": "2023-10-05T00:02:46.602427Z",
     "shell.execute_reply": "2023-10-05T00:02:46.601421Z"
    },
    "papermill": {
     "duration": 0.03162,
     "end_time": "2023-10-05T00:02:46.604490",
     "exception": false,
     "start_time": "2023-10-05T00:02:46.572870",
     "status": "completed"
    },
    "tags": []
   },
   "outputs": [],
   "source": [
    "df.dropna(inplace=True)"
   ]
  },
  {
   "cell_type": "markdown",
   "id": "a55373ec",
   "metadata": {
    "papermill": {
     "duration": 0.013663,
     "end_time": "2023-10-05T00:02:46.631953",
     "exception": false,
     "start_time": "2023-10-05T00:02:46.618290",
     "status": "completed"
    },
    "tags": []
   },
   "source": [
    "Verificando as proporções dos adimplentes e inadimplentes após a remoção: "
   ]
  },
  {
   "cell_type": "code",
   "execution_count": 24,
   "id": "db1951d3",
   "metadata": {
    "execution": {
     "iopub.execute_input": "2023-10-05T00:02:46.661023Z",
     "iopub.status.busy": "2023-10-05T00:02:46.660432Z",
     "iopub.status.idle": "2023-10-05T00:02:46.669374Z",
     "shell.execute_reply": "2023-10-05T00:02:46.668221Z"
    },
    "papermill": {
     "duration": 0.025519,
     "end_time": "2023-10-05T00:02:46.671214",
     "exception": false,
     "start_time": "2023-10-05T00:02:46.645695",
     "status": "completed"
    },
    "tags": []
   },
   "outputs": [
    {
     "name": "stdout",
     "output_type": "stream",
     "text": [
      "A nova proporcão clientes adimplentes é de 84.28%\n",
      "A nova proporcão clientes inadimplentes é de 15.72%\n"
     ]
    }
   ],
   "source": [
    "qtd_total, _ = df.shape #Número total de clientes\n",
    "qtd_adimplentes, _ = df[df['default'] == 0].shape #Número de clientes adimplentes\n",
    "qtd_inadimplentes, _ = df[df['default'] == 1].shape #Número de clientes inadimplentes\n",
    "\n",
    "porcentagem_adimp = round(100 * qtd_adimplentes / qtd_total, 2) #Porcentagem adimplentes\n",
    "porcentagem_inadimp = round(100 * qtd_inadimplentes / qtd_total, 2) #Porcentagem inadimplentes\n",
    "\n",
    "print(f\"A nova proporcão clientes adimplentes é de {porcentagem_adimp}%\")\n",
    "print(f\"A nova proporcão clientes inadimplentes é de {porcentagem_inadimp}%\")"
   ]
  },
  {
   "cell_type": "markdown",
   "id": "924d4ffc",
   "metadata": {
    "papermill": {
     "duration": 0.013595,
     "end_time": "2023-10-05T00:02:46.698473",
     "exception": false,
     "start_time": "2023-10-05T00:02:46.684878",
     "status": "completed"
    },
    "tags": []
   },
   "source": [
    "Valores antes da remoção:\n",
    "\n",
    "* Adimplentes: 83.93% \n",
    "* Inadimplentes: 16.07%\n",
    "\n",
    "Valores após a remoção:\n",
    "\n",
    "* Adimplentes: 84.28%\n",
    "* Inadimplentes: 15.72%\n",
    "\n",
    "Arredondando os valores para inteiros, temos 84% e 16% nos dois casos. Ou seja, a variação foi desprezível."
   ]
  },
  {
   "cell_type": "markdown",
   "id": "b4423e40",
   "metadata": {
    "papermill": {
     "duration": 0.013232,
     "end_time": "2023-10-05T00:02:46.725276",
     "exception": false,
     "start_time": "2023-10-05T00:02:46.712044",
     "status": "completed"
    },
    "tags": []
   },
   "source": [
    "# Análise visual em gráficos"
   ]
  },
  {
   "cell_type": "code",
   "execution_count": 25,
   "id": "6b3c362b",
   "metadata": {
    "execution": {
     "iopub.execute_input": "2023-10-05T00:02:46.754468Z",
     "iopub.status.busy": "2023-10-05T00:02:46.753872Z",
     "iopub.status.idle": "2023-10-05T00:02:46.758491Z",
     "shell.execute_reply": "2023-10-05T00:02:46.757663Z"
    },
    "papermill": {
     "duration": 0.02136,
     "end_time": "2023-10-05T00:02:46.760329",
     "exception": false,
     "start_time": "2023-10-05T00:02:46.738969",
     "status": "completed"
    },
    "tags": []
   },
   "outputs": [],
   "source": [
    "sns.set_style(\"whitegrid\")"
   ]
  },
  {
   "cell_type": "markdown",
   "id": "1251a8c9",
   "metadata": {
    "papermill": {
     "duration": 0.013432,
     "end_time": "2023-10-05T00:02:46.788051",
     "exception": false,
     "start_time": "2023-10-05T00:02:46.774619",
     "status": "completed"
    },
    "tags": []
   },
   "source": [
    "Dividimos o DataFrame em dois DataFrames separados, onde um corresponde apenas aos dados dos clientes adimplentes, e o outros apenas aos dados dos clientes inadimplentes:"
   ]
  },
  {
   "cell_type": "code",
   "execution_count": 26,
   "id": "90690a2c",
   "metadata": {
    "execution": {
     "iopub.execute_input": "2023-10-05T00:02:46.817184Z",
     "iopub.status.busy": "2023-10-05T00:02:46.816482Z",
     "iopub.status.idle": "2023-10-05T00:02:46.822631Z",
     "shell.execute_reply": "2023-10-05T00:02:46.821919Z"
    },
    "papermill": {
     "duration": 0.022968,
     "end_time": "2023-10-05T00:02:46.824654",
     "exception": false,
     "start_time": "2023-10-05T00:02:46.801686",
     "status": "completed"
    },
    "tags": []
   },
   "outputs": [],
   "source": [
    "df_adimplente = df[df['default'] == 0]\n",
    "df_inadimplente = df[df['default'] == 1]"
   ]
  },
  {
   "cell_type": "markdown",
   "id": "0cc66288",
   "metadata": {
    "papermill": {
     "duration": 0.013682,
     "end_time": "2023-10-05T00:02:46.853390",
     "exception": false,
     "start_time": "2023-10-05T00:02:46.839708",
     "status": "completed"
    },
    "tags": []
   },
   "source": [
    "Examinando as colunas categóricas:"
   ]
  },
  {
   "cell_type": "code",
   "execution_count": 27,
   "id": "b756f87f",
   "metadata": {
    "execution": {
     "iopub.execute_input": "2023-10-05T00:02:46.883024Z",
     "iopub.status.busy": "2023-10-05T00:02:46.882058Z",
     "iopub.status.idle": "2023-10-05T00:02:46.893514Z",
     "shell.execute_reply": "2023-10-05T00:02:46.892532Z"
    },
    "papermill": {
     "duration": 0.028308,
     "end_time": "2023-10-05T00:02:46.895403",
     "exception": false,
     "start_time": "2023-10-05T00:02:46.867095",
     "status": "completed"
    },
    "tags": []
   },
   "outputs": [
    {
     "data": {
      "text/html": [
       "<div>\n",
       "<style scoped>\n",
       "    .dataframe tbody tr th:only-of-type {\n",
       "        vertical-align: middle;\n",
       "    }\n",
       "\n",
       "    .dataframe tbody tr th {\n",
       "        vertical-align: top;\n",
       "    }\n",
       "\n",
       "    .dataframe thead th {\n",
       "        text-align: right;\n",
       "    }\n",
       "</style>\n",
       "<table border=\"1\" class=\"dataframe\">\n",
       "  <thead>\n",
       "    <tr style=\"text-align: right;\">\n",
       "      <th></th>\n",
       "      <th>sexo</th>\n",
       "      <th>escolaridade</th>\n",
       "      <th>estado_civil</th>\n",
       "      <th>salario_anual</th>\n",
       "      <th>tipo_cartao</th>\n",
       "    </tr>\n",
       "  </thead>\n",
       "  <tbody>\n",
       "    <tr>\n",
       "      <th>0</th>\n",
       "      <td>M</td>\n",
       "      <td>ensino medio</td>\n",
       "      <td>casado</td>\n",
       "      <td>$60K - $80K</td>\n",
       "      <td>blue</td>\n",
       "    </tr>\n",
       "    <tr>\n",
       "      <th>1</th>\n",
       "      <td>F</td>\n",
       "      <td>mestrado</td>\n",
       "      <td>solteiro</td>\n",
       "      <td>menos que $40K</td>\n",
       "      <td>blue</td>\n",
       "    </tr>\n",
       "    <tr>\n",
       "      <th>2</th>\n",
       "      <td>M</td>\n",
       "      <td>mestrado</td>\n",
       "      <td>casado</td>\n",
       "      <td>$80K - $120K</td>\n",
       "      <td>blue</td>\n",
       "    </tr>\n",
       "    <tr>\n",
       "      <th>4</th>\n",
       "      <td>M</td>\n",
       "      <td>sem educacao formal</td>\n",
       "      <td>casado</td>\n",
       "      <td>$60K - $80K</td>\n",
       "      <td>blue</td>\n",
       "    </tr>\n",
       "    <tr>\n",
       "      <th>5</th>\n",
       "      <td>M</td>\n",
       "      <td>mestrado</td>\n",
       "      <td>casado</td>\n",
       "      <td>$40K - $60K</td>\n",
       "      <td>blue</td>\n",
       "    </tr>\n",
       "  </tbody>\n",
       "</table>\n",
       "</div>"
      ],
      "text/plain": [
       "  sexo         escolaridade estado_civil   salario_anual tipo_cartao\n",
       "0    M         ensino medio       casado     $60K - $80K        blue\n",
       "1    F             mestrado     solteiro  menos que $40K        blue\n",
       "2    M             mestrado       casado    $80K - $120K        blue\n",
       "4    M  sem educacao formal       casado     $60K - $80K        blue\n",
       "5    M             mestrado       casado     $40K - $60K        blue"
      ]
     },
     "execution_count": 27,
     "metadata": {},
     "output_type": "execute_result"
    }
   ],
   "source": [
    "df.select_dtypes('object').head()"
   ]
  },
  {
   "cell_type": "markdown",
   "id": "c50ee53d",
   "metadata": {
    "papermill": {
     "duration": 0.013564,
     "end_time": "2023-10-05T00:02:46.922857",
     "exception": false,
     "start_time": "2023-10-05T00:02:46.909293",
     "status": "completed"
    },
    "tags": []
   },
   "source": [
    "Vamos construir um gráfico de barras que mostra a contagem de clientes para cada categoria de escolaridade(sem educação formal, ensino médio, graduação, mestrado, doutorado), dividindo os resultados entre os clientes adimplentes e inadimplentes para comparação:"
   ]
  },
  {
   "cell_type": "code",
   "execution_count": 28,
   "id": "6c43b669",
   "metadata": {
    "execution": {
     "iopub.execute_input": "2023-10-05T00:02:46.952417Z",
     "iopub.status.busy": "2023-10-05T00:02:46.951768Z",
     "iopub.status.idle": "2023-10-05T00:02:47.302694Z",
     "shell.execute_reply": "2023-10-05T00:02:47.301608Z"
    },
    "papermill": {
     "duration": 0.368179,
     "end_time": "2023-10-05T00:02:47.304827",
     "exception": false,
     "start_time": "2023-10-05T00:02:46.936648",
     "status": "completed"
    },
    "tags": []
   },
   "outputs": [
    {
     "data": {
      "image/png": "[encoded data removed]",
      "text/plain": [
       "<Figure size 1000x600 with 1 Axes>"
      ]
     },
     "metadata": {},
     "output_type": "display_data"
    }
   ],
   "source": [
    "plt.figure(figsize=(10, 6))\n",
    "\n",
    "ordem_escolaridade = ['sem educacao formal', 'ensino medio', 'graduacao', 'mestrado', 'doutorado']\n",
    "custom_palette = sns.color_palette(\"pastel\")\n",
    "\n",
    "\n",
    "ax = sns.countplot(data=df, x=\"escolaridade\", hue=\"default\", order=ordem_escolaridade, palette=custom_palette)\n",
    "ax.set_title(\"Escolaridade dos Clientes Adimplentes e Inadimplentes \", fontsize=16)\n",
    "ax.set_xlabel(\"Escolaridade\", fontsize=14)\n",
    "ax.set_ylabel(\"Frequência Absoluta\", fontsize=14)\n",
    "\n",
    "plt.xticks(rotation=0)\n",
    "plt.legend(labels=[\"Adimplentes\", \"Inadimplentes\"])\n",
    "plt.tight_layout()\n",
    "\n",
    "plt.show()"
   ]
  },
  {
   "cell_type": "markdown",
   "id": "d79c4127",
   "metadata": {
    "papermill": {
     "duration": 0.015124,
     "end_time": "2023-10-05T00:02:47.335253",
     "exception": false,
     "start_time": "2023-10-05T00:02:47.320129",
     "status": "completed"
    },
    "tags": []
   },
   "source": [
    "Para analisar uma possível influência, temos que comparar a proporção entre as duas barras para cada nível de escolaridade. A comparação é feita obtendo a contagem de cada barra, e calculando a razão entre os inadimplentes e adimplentes para cada escolaridade. Isso resultará em 5 valores:"
   ]
  },
  {
   "cell_type": "code",
   "execution_count": 29,
   "id": "27516ecb",
   "metadata": {
    "execution": {
     "iopub.execute_input": "2023-10-05T00:02:47.366604Z",
     "iopub.status.busy": "2023-10-05T00:02:47.366002Z",
     "iopub.status.idle": "2023-10-05T00:02:47.389471Z",
     "shell.execute_reply": "2023-10-05T00:02:47.388524Z"
    },
    "papermill": {
     "duration": 0.04229,
     "end_time": "2023-10-05T00:02:47.392272",
     "exception": false,
     "start_time": "2023-10-05T00:02:47.349982",
     "status": "completed"
    },
    "tags": []
   },
   "outputs": [
    {
     "name": "stdout",
     "output_type": "stream",
     "text": [
      "0    0.238619\n",
      "1    0.167373\n",
      "2    0.185393\n",
      "3    0.185812\n",
      "4    0.182711\n",
      "Name: ratio, dtype: float64\n"
     ]
    }
   ],
   "source": [
    "crosstab_df = pd.crosstab(df['escolaridade'], df['default'])\n",
    "\n",
    "crosstab_df.reset_index(inplace=True)\n",
    "\n",
    "crosstab_df['ratio'] = crosstab_df[1] / crosstab_df[0]\n",
    "print(crosstab_df['ratio'])"
   ]
  },
  {
   "cell_type": "code",
   "execution_count": 30,
   "id": "513293f4",
   "metadata": {
    "execution": {
     "iopub.execute_input": "2023-10-05T00:02:47.423931Z",
     "iopub.status.busy": "2023-10-05T00:02:47.423245Z",
     "iopub.status.idle": "2023-10-05T00:02:47.658761Z",
     "shell.execute_reply": "2023-10-05T00:02:47.658048Z"
    },
    "papermill": {
     "duration": 0.253161,
     "end_time": "2023-10-05T00:02:47.660610",
     "exception": false,
     "start_time": "2023-10-05T00:02:47.407449",
     "status": "completed"
    },
    "tags": []
   },
   "outputs": [
    {
     "data": {
      "image/png": "[encoded data removed]",
      "text/plain": [
       "<Figure size 1000x200 with 1 Axes>"
      ]
     },
     "metadata": {},
     "output_type": "display_data"
    }
   ],
   "source": [
    "plt.figure(figsize=(10, 2))\n",
    "sns.lineplot(x=crosstab_df['escolaridade'], y=crosstab_df['ratio'], marker='o', color='blue')\n",
    "plt.title(\"Razão entre Inadimplentes e Adimplentes para Cada Escolaridade\", fontsize=16)\n",
    "plt.xlabel(\"Escolaridade\", fontsize=14)\n",
    "plt.xticks(rotation=0)\n",
    "plt.tight_layout()\n",
    "\n",
    "plt.show()"
   ]
  },
  {
   "cell_type": "markdown",
   "id": "f706b6ed",
   "metadata": {
    "papermill": {
     "duration": 0.015194,
     "end_time": "2023-10-05T00:02:47.691209",
     "exception": false,
     "start_time": "2023-10-05T00:02:47.676015",
     "status": "completed"
    },
    "tags": []
   },
   "source": [
    "Os 5 valores obtidos acima aproximados para 1 casa decimal são o mesmo: 0.2. Portanto a escolaridade não é um fator relevante na inadimplência dos clientes. "
   ]
  },
  {
   "cell_type": "markdown",
   "id": "9d0b1549",
   "metadata": {
    "papermill": {
     "duration": 0.014861,
     "end_time": "2023-10-05T00:02:47.721235",
     "exception": false,
     "start_time": "2023-10-05T00:02:47.706374",
     "status": "completed"
    },
    "tags": []
   },
   "source": [
    "Agora fazendo a mesma comparação para o salário anual:"
   ]
  },
  {
   "cell_type": "code",
   "execution_count": 31,
   "id": "8cfae08c",
   "metadata": {
    "execution": {
     "iopub.execute_input": "2023-10-05T00:02:47.753773Z",
     "iopub.status.busy": "2023-10-05T00:02:47.753052Z",
     "iopub.status.idle": "2023-10-05T00:02:48.140857Z",
     "shell.execute_reply": "2023-10-05T00:02:48.139834Z"
    },
    "papermill": {
     "duration": 0.406542,
     "end_time": "2023-10-05T00:02:48.143020",
     "exception": false,
     "start_time": "2023-10-05T00:02:47.736478",
     "status": "completed"
    },
    "tags": []
   },
   "outputs": [
    {
     "data": {
      "image/png": "[encoded data removed]",
      "text/plain": [
       "<Figure size 1000x600 with 1 Axes>"
      ]
     },
     "metadata": {},
     "output_type": "display_data"
    }
   ],
   "source": [
    "plt.figure(figsize=(10, 6))\n",
    "\n",
    "custom_colors = sns.color_palette(\"pastel\")\n",
    "ordem_salario = ['menos que $40K', '$40K - $60K', '$60K - $80K','$80K - $120K', '$120K +']\n",
    "\n",
    "ax = sns.countplot(data=df, x=\"salario_anual\", hue=\"default\", order=ordem_salario, palette=custom_palette)\n",
    "ax.set_title(\"Salário Anual dos Clientes Adimplentes e Inadimplentes \", fontsize=16)\n",
    "ax.set_xlabel(\"Salário Anual\", fontsize=14)\n",
    "ax.set_ylabel(\"Frequência Absoluta\", fontsize=14)\n",
    "\n",
    "plt.xticks(rotation=0)\n",
    "plt.legend(labels=[\"Adimplentes\", \"Inadimplentes\"])\n",
    "plt.tight_layout()\n",
    "\n",
    "plt.show()\n",
    "\n",
    " "
   ]
  },
  {
   "cell_type": "code",
   "execution_count": 32,
   "id": "39799bb9",
   "metadata": {
    "execution": {
     "iopub.execute_input": "2023-10-05T00:02:48.176628Z",
     "iopub.status.busy": "2023-10-05T00:02:48.176231Z",
     "iopub.status.idle": "2023-10-05T00:02:48.192987Z",
     "shell.execute_reply": "2023-10-05T00:02:48.191803Z"
    },
    "papermill": {
     "duration": 0.036162,
     "end_time": "2023-10-05T00:02:48.195100",
     "exception": false,
     "start_time": "2023-10-05T00:02:48.158938",
     "status": "completed"
    },
    "tags": []
   },
   "outputs": [
    {
     "name": "stdout",
     "output_type": "stream",
     "text": [
      "0    0.217021\n",
      "1    0.168874\n",
      "2    0.151357\n",
      "3    0.186575\n",
      "4    0.203967\n",
      "Name: ratio, dtype: float64\n"
     ]
    }
   ],
   "source": [
    "crosstab_df2 = pd.crosstab(df['salario_anual'], df['default'])\n",
    "\n",
    "crosstab_df2.reset_index(inplace=True)\n",
    "\n",
    "crosstab_df2['ratio'] = crosstab_df2[1] / crosstab_df2[0]\n",
    "print(crosstab_df2['ratio'])"
   ]
  },
  {
   "cell_type": "code",
   "execution_count": 33,
   "id": "478e6b79",
   "metadata": {
    "execution": {
     "iopub.execute_input": "2023-10-05T00:02:48.228452Z",
     "iopub.status.busy": "2023-10-05T00:02:48.228105Z",
     "iopub.status.idle": "2023-10-05T00:02:48.483228Z",
     "shell.execute_reply": "2023-10-05T00:02:48.482230Z"
    },
    "papermill": {
     "duration": 0.274442,
     "end_time": "2023-10-05T00:02:48.485435",
     "exception": false,
     "start_time": "2023-10-05T00:02:48.210993",
     "status": "completed"
    },
    "tags": []
   },
   "outputs": [
    {
     "data": {
      "image/png": "[encoded data removed]",
      "text/plain": [
       "<Figure size 1000x200 with 1 Axes>"
      ]
     },
     "metadata": {},
     "output_type": "display_data"
    }
   ],
   "source": [
    "plt.figure(figsize=(10, 2))\n",
    "sns.lineplot(x=crosstab_df2['salario_anual'], y=crosstab_df2['ratio'], marker='o', color='blue')\n",
    "plt.title(\"Razão entre Inadimplentes e Adimplentes por Salário Anual\", fontsize=16)\n",
    "plt.xlabel(\"Salário Anual\", fontsize=14)\n",
    "plt.xticks(rotation=0)\n",
    "plt.tight_layout()\n",
    "\n",
    "plt.show()"
   ]
  },
  {
   "cell_type": "markdown",
   "id": "52a3f49e",
   "metadata": {
    "papermill": {
     "duration": 0.018892,
     "end_time": "2023-10-05T00:02:48.522037",
     "exception": false,
     "start_time": "2023-10-05T00:02:48.503145",
     "status": "completed"
    },
    "tags": []
   },
   "source": [
    "Os valores obtidos também aproximam para o mesmo valor: 0.2. Portanto o salário anual também não é um fator relevante na inadimplência. "
   ]
  },
  {
   "cell_type": "markdown",
   "id": "0014dbc5",
   "metadata": {
    "papermill": {
     "duration": 0.016129,
     "end_time": "2023-10-05T00:02:48.556983",
     "exception": false,
     "start_time": "2023-10-05T00:02:48.540854",
     "status": "completed"
    },
    "tags": []
   },
   "source": [
    "Examinando as colunas numéricas:"
   ]
  },
  {
   "cell_type": "code",
   "execution_count": 34,
   "id": "fec53e3f",
   "metadata": {
    "execution": {
     "iopub.execute_input": "2023-10-05T00:02:48.593144Z",
     "iopub.status.busy": "2023-10-05T00:02:48.592429Z",
     "iopub.status.idle": "2023-10-05T00:02:48.608169Z",
     "shell.execute_reply": "2023-10-05T00:02:48.607089Z"
    },
    "papermill": {
     "duration": 0.035846,
     "end_time": "2023-10-05T00:02:48.610163",
     "exception": false,
     "start_time": "2023-10-05T00:02:48.574317",
     "status": "completed"
    },
    "tags": []
   },
   "outputs": [
    {
     "data": {
      "text/html": [
       "<div>\n",
       "<style scoped>\n",
       "    .dataframe tbody tr th:only-of-type {\n",
       "        vertical-align: middle;\n",
       "    }\n",
       "\n",
       "    .dataframe tbody tr th {\n",
       "        vertical-align: top;\n",
       "    }\n",
       "\n",
       "    .dataframe thead th {\n",
       "        text-align: right;\n",
       "    }\n",
       "</style>\n",
       "<table border=\"1\" class=\"dataframe\">\n",
       "  <thead>\n",
       "    <tr style=\"text-align: right;\">\n",
       "      <th></th>\n",
       "      <th>idade</th>\n",
       "      <th>dependentes</th>\n",
       "      <th>meses_de_relacionamento</th>\n",
       "      <th>qtd_produtos</th>\n",
       "      <th>iteracoes_12m</th>\n",
       "      <th>meses_inativo_12m</th>\n",
       "      <th>limite_credito</th>\n",
       "      <th>valor_transacoes_12m</th>\n",
       "      <th>qtd_transacoes_12m</th>\n",
       "    </tr>\n",
       "  </thead>\n",
       "  <tbody>\n",
       "    <tr>\n",
       "      <th>0</th>\n",
       "      <td>45</td>\n",
       "      <td>3</td>\n",
       "      <td>39</td>\n",
       "      <td>5</td>\n",
       "      <td>3</td>\n",
       "      <td>1</td>\n",
       "      <td>12691.51</td>\n",
       "      <td>1144.90</td>\n",
       "      <td>42</td>\n",
       "    </tr>\n",
       "    <tr>\n",
       "      <th>1</th>\n",
       "      <td>49</td>\n",
       "      <td>5</td>\n",
       "      <td>44</td>\n",
       "      <td>6</td>\n",
       "      <td>2</td>\n",
       "      <td>1</td>\n",
       "      <td>8256.96</td>\n",
       "      <td>1291.45</td>\n",
       "      <td>33</td>\n",
       "    </tr>\n",
       "    <tr>\n",
       "      <th>2</th>\n",
       "      <td>51</td>\n",
       "      <td>3</td>\n",
       "      <td>36</td>\n",
       "      <td>4</td>\n",
       "      <td>0</td>\n",
       "      <td>1</td>\n",
       "      <td>3418.56</td>\n",
       "      <td>1887.72</td>\n",
       "      <td>20</td>\n",
       "    </tr>\n",
       "    <tr>\n",
       "      <th>4</th>\n",
       "      <td>40</td>\n",
       "      <td>3</td>\n",
       "      <td>21</td>\n",
       "      <td>5</td>\n",
       "      <td>0</td>\n",
       "      <td>1</td>\n",
       "      <td>4716.22</td>\n",
       "      <td>816.08</td>\n",
       "      <td>28</td>\n",
       "    </tr>\n",
       "    <tr>\n",
       "      <th>5</th>\n",
       "      <td>44</td>\n",
       "      <td>2</td>\n",
       "      <td>36</td>\n",
       "      <td>3</td>\n",
       "      <td>2</td>\n",
       "      <td>1</td>\n",
       "      <td>4010.69</td>\n",
       "      <td>1088.07</td>\n",
       "      <td>24</td>\n",
       "    </tr>\n",
       "  </tbody>\n",
       "</table>\n",
       "</div>"
      ],
      "text/plain": [
       "   idade  dependentes  meses_de_relacionamento  qtd_produtos  iteracoes_12m  \\\n",
       "0     45            3                       39             5              3   \n",
       "1     49            5                       44             6              2   \n",
       "2     51            3                       36             4              0   \n",
       "4     40            3                       21             5              0   \n",
       "5     44            2                       36             3              2   \n",
       "\n",
       "   meses_inativo_12m  limite_credito  valor_transacoes_12m  qtd_transacoes_12m  \n",
       "0                  1        12691.51               1144.90                  42  \n",
       "1                  1         8256.96               1291.45                  33  \n",
       "2                  1         3418.56               1887.72                  20  \n",
       "4                  1         4716.22                816.08                  28  \n",
       "5                  1         4010.69               1088.07                  24  "
      ]
     },
     "execution_count": 34,
     "metadata": {},
     "output_type": "execute_result"
    }
   ],
   "source": [
    "df.drop(['id', 'default'], axis=1).select_dtypes('number').head()"
   ]
  },
  {
   "cell_type": "markdown",
   "id": "8ee18305",
   "metadata": {
    "papermill": {
     "duration": 0.016437,
     "end_time": "2023-10-05T00:02:48.643575",
     "exception": false,
     "start_time": "2023-10-05T00:02:48.627138",
     "status": "completed"
    },
    "tags": []
   },
   "source": [
    "Para a quantidade total de transações em 12 meses, plotamos um histograma para exibir a distribuição dos valores, para adimplentes e inadimplentes, e calculamos a média: "
   ]
  },
  {
   "cell_type": "code",
   "execution_count": 35,
   "id": "f0436f12",
   "metadata": {
    "execution": {
     "iopub.execute_input": "2023-10-05T00:02:48.679019Z",
     "iopub.status.busy": "2023-10-05T00:02:48.678269Z",
     "iopub.status.idle": "2023-10-05T00:02:49.252141Z",
     "shell.execute_reply": "2023-10-05T00:02:49.251035Z"
    },
    "papermill": {
     "duration": 0.594189,
     "end_time": "2023-10-05T00:02:49.254410",
     "exception": false,
     "start_time": "2023-10-05T00:02:48.660221",
     "status": "completed"
    },
    "tags": []
   },
   "outputs": [
    {
     "data": {
      "image/png": "[encoded data removed]",
      "text/plain": [
       "<Figure size 1000x600 with 1 Axes>"
      ]
     },
     "metadata": {},
     "output_type": "display_data"
    }
   ],
   "source": [
    "coluna = 'qtd_transacoes_12m'\n",
    "plt.figure(figsize=(10, 6))\n",
    "\n",
    "mean_adimplente = df_adimplente[coluna].mean()\n",
    "mean_inadimplente = df_inadimplente[coluna].mean()\n",
    "\n",
    "sns.histplot(df_adimplente[coluna], kde=False, label='Adimplentes', color='#a1c9f4')\n",
    "sns.histplot(df_inadimplente[coluna], kde=False, label='Inadimplentes', color='#ffb482')\n",
    "\n",
    "plt.axvline(mean_adimplente, color='#6495ED', linestyle='dashed', linewidth=2, label=f'Média: {mean_adimplente:.2f}')\n",
    "plt.axvline(mean_inadimplente, color='#FFA07A', linestyle='dashed', linewidth=2, label=f'Média: {mean_inadimplente:.2f}')\n",
    "\n",
    "plt.title(\"Quantidade de Transações dos Clientes Adimplentes e Inadimplentes\")\n",
    "plt.xlabel(\"Número de transações\")\n",
    "plt.ylabel(\"Frequência absoluta\")\n",
    "plt.legend()\n",
    "\n",
    "\n",
    "plt.show()"
   ]
  },
  {
   "cell_type": "markdown",
   "id": "1d510272",
   "metadata": {
    "papermill": {
     "duration": 0.017722,
     "end_time": "2023-10-05T00:02:49.290193",
     "exception": false,
     "start_time": "2023-10-05T00:02:49.272471",
     "status": "completed"
    },
    "tags": []
   },
   "source": [
    "É possível observar que nesse caso a diferença é significativa para esses dois grupos, sendo que a quantidade média de transações para os adimplentes é 68.18, e a média para os inadimplentes é 44.81. Isso mostra que os clientes inadimplentes em média realizam menos transações do que os adimplentes. "
   ]
  },
  {
   "cell_type": "markdown",
   "id": "d3bb1718",
   "metadata": {
    "papermill": {
     "duration": 0.017334,
     "end_time": "2023-10-05T00:02:49.325201",
     "exception": false,
     "start_time": "2023-10-05T00:02:49.307867",
     "status": "completed"
    },
    "tags": []
   },
   "source": [
    "A última variável que vamos analisar é o valor total das transações em 12 meses. Novamente um histograma exibe da melhor forma a distribuição desses valores para os grupos. "
   ]
  },
  {
   "cell_type": "code",
   "execution_count": 36,
   "id": "93db6659",
   "metadata": {
    "execution": {
     "iopub.execute_input": "2023-10-05T00:02:49.361555Z",
     "iopub.status.busy": "2023-10-05T00:02:49.361202Z",
     "iopub.status.idle": "2023-10-05T00:02:49.944655Z",
     "shell.execute_reply": "2023-10-05T00:02:49.943573Z"
    },
    "papermill": {
     "duration": 0.604084,
     "end_time": "2023-10-05T00:02:49.946909",
     "exception": false,
     "start_time": "2023-10-05T00:02:49.342825",
     "status": "completed"
    },
    "tags": []
   },
   "outputs": [
    {
     "data": {
      "image/png": "[encoded data removed]",
      "text/plain": [
       "<Figure size 1000x600 with 1 Axes>"
      ]
     },
     "metadata": {},
     "output_type": "display_data"
    }
   ],
   "source": [
    "coluna = 'valor_transacoes_12m'\n",
    "plt.figure(figsize=(10, 6))\n",
    "\n",
    "sns.histplot(df_adimplente[coluna], kde=False, label='Adimplentes', color='#a1c9f4')\n",
    "sns.histplot(df_inadimplente[coluna], kde=False, label='Inadimplentes', color='#ffb482')\n",
    "\n",
    "plt.title(\"Valores das Transações dos Clientes Adimplentes e Inadimplentes\")\n",
    "plt.xlabel(\"Valores\")\n",
    "plt.ylabel(\"Frequência absoluta\")\n",
    "plt.legend()\n",
    "\n",
    "plt.show()"
   ]
  },
  {
   "cell_type": "markdown",
   "id": "bcdef343",
   "metadata": {
    "papermill": {
     "duration": 0.017832,
     "end_time": "2023-10-05T00:02:49.982991",
     "exception": false,
     "start_time": "2023-10-05T00:02:49.965159",
     "status": "completed"
    },
    "tags": []
   },
   "source": [
    "Observando os histogramas acima é notável que possuem vários picos, ou seja, a distribuição é multimodal nos dois casos. Também notamos que os picos se localizam em valores mais baixos para os clientes inadimplentes, e terminam em torno de 10000, enquanto para os clientes adimplentes ainda existe uma pequena distribuição em torno de 15000."
   ]
  },
  {
   "cell_type": "markdown",
   "id": "db65eca4",
   "metadata": {
    "papermill": {
     "duration": 0.017779,
     "end_time": "2023-10-05T00:02:50.018688",
     "exception": false,
     "start_time": "2023-10-05T00:02:50.000909",
     "status": "completed"
    },
    "tags": []
   },
   "source": [
    "Por fim com os dados de valores e quantidades de transação podemos plotar um gráfico relacional para visualizar de forma mais clara a relação entre essas variáveis com a inadimplência:"
   ]
  },
  {
   "cell_type": "code",
   "execution_count": 37,
   "id": "024d888a",
   "metadata": {
    "execution": {
     "iopub.execute_input": "2023-10-05T00:02:50.056441Z",
     "iopub.status.busy": "2023-10-05T00:02:50.056098Z",
     "iopub.status.idle": "2023-10-05T00:02:50.857750Z",
     "shell.execute_reply": "2023-10-05T00:02:50.856647Z"
    },
    "papermill": {
     "duration": 0.82398,
     "end_time": "2023-10-05T00:02:50.860569",
     "exception": false,
     "start_time": "2023-10-05T00:02:50.036589",
     "status": "completed"
    },
    "tags": []
   },
   "outputs": [
    {
     "name": "stderr",
     "output_type": "stream",
     "text": [
      "/opt/conda/lib/python3.10/site-packages/seaborn/axisgrid.py:118: UserWarning: The figure layout has changed to tight\n",
      "  self._figure.tight_layout(*args, **kwargs)\n"
     ]
    },
    {
     "data": {
      "text/plain": [
       "<Figure size 640x480 with 0 Axes>"
      ]
     },
     "metadata": {},
     "output_type": "display_data"
    },
    {
     "data": {
      "image/png": "[encoded data removed]",
      "text/plain": [
       "<Figure size 500x500 with 1 Axes>"
      ]
     },
     "metadata": {},
     "output_type": "display_data"
    }
   ],
   "source": [
    "plt.figure()\n",
    "custom_colors = [\"#a1c9f4\", \"#ffb482\"]\n",
    "\n",
    "sns.relplot(x='valor_transacoes_12m', y='qtd_transacoes_12m', data=df, hue='default', palette=custom_colors, legend=False)\n",
    "\n",
    "plt.title(\"Relação entre Valor e Quantidade de Transações no Último Ano\")\n",
    "plt.xlabel(\"Valor das Transações no Último Ano\")\n",
    "plt.ylabel(\"Quantidade das Transações no Último Ano\")\n",
    "plt.legend(labels=[\"Adimplentes\", \"Inadimplentes\"])\n",
    "\n",
    "\n",
    "plt.show()\n"
   ]
  },
  {
   "cell_type": "markdown",
   "id": "f14f2327",
   "metadata": {
    "papermill": {
     "duration": 0.020608,
     "end_time": "2023-10-05T00:02:50.902135",
     "exception": false,
     "start_time": "2023-10-05T00:02:50.881527",
     "status": "completed"
    },
    "tags": []
   },
   "source": [
    "Esse gráfico mostra mais claramente o que foi visto nos histogramas, que para os clientes inadimplentes, as transações realizadas durante 12 meses foram em menor número, e de forma geral em menores valores do que as transações dos clientes adimplentes. Também fica claro que o maior volume de transações, em quantidade e valor ocorre exclusivamente para os adimplentes. "
   ]
  },
  {
   "cell_type": "markdown",
   "id": "a16d8fcd",
   "metadata": {
    "papermill": {
     "duration": 0.019369,
     "end_time": "2023-10-05T00:02:50.941415",
     "exception": false,
     "start_time": "2023-10-05T00:02:50.922046",
     "status": "completed"
    },
    "tags": []
   },
   "source": [
    "# Conclusão"
   ]
  },
  {
   "cell_type": "markdown",
   "id": "4b985f9e",
   "metadata": {
    "papermill": {
     "duration": 0.019396,
     "end_time": "2023-10-05T00:02:50.980682",
     "exception": false,
     "start_time": "2023-10-05T00:02:50.961286",
     "status": "completed"
    },
    "tags": []
   },
   "source": [
    "A escolaridade e salário anual não se mostraram influentes na inadimplência dos clientes, o que é uma consideração importante para evitar que a renda dos clientes ou nível de escolaridade sejam um fator discriminante a ser usado pelos bancos na análise de crédito. \n",
    "\n",
    "Clientes adimplentes exclusivamente realizaram a maior quantidade e maior valor de transações do que os clientes inadimplentes. \n",
    "\n",
    "Clientes inadimplentes realizaram menos transações e em valor consideravelmente menor do que os adimplentes. \n",
    "\n",
    "Esses resultados refletem apenas a base de dados utilizada nessa análise, e não devem ser utilizados para generalizar o perfil de clientes bancários em outras situações. "
   ]
  }
 ],
 "metadata": {
  "kernelspec": {
   "display_name": "Python 3",
   "language": "python",
   "name": "python3"
  },
  "language_info": {
   "codemirror_mode": {
    "name": "ipython",
    "version": 3
   },
   "file_extension": ".py",
   "mimetype": "text/x-python",
   "name": "python",
   "nbconvert_exporter": "python",
   "pygments_lexer": "ipython3",
   "version": "3.10.12"
  },
  "papermill": {
   "default_parameters": {},
   "duration": 17.995362,
   "end_time": "2023-10-05T00:02:51.922454",
   "environment_variables": {},
   "exception": null,
   "input_path": "__notebook__.ipynb",
   "output_path": "__notebook__.ipynb",
   "parameters": {},
   "start_time": "2023-10-05T00:02:33.927092",
   "version": "2.4.0"
  }
 },
 "nbformat": 4,
 "nbformat_minor": 5
}
